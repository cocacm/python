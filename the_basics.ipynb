{
 "cells": [
  {
   "cell_type": "markdown",
   "metadata": {},
   "source": [
    "# Python: the basics\n",
    "*Written by Michael D Sanchez for College of the Canyons' Association for Computing Machinery*\n",
    "\n",
    "**Contents**\n",
    "- Defining Functions\n",
    "- Variable Assignment\n",
    "- String Types\n",
    "- String Manipulation\n",
    "- Type Casting\n",
    "- Containers"
   ]
  },
  {
   "cell_type": "markdown",
   "metadata": {},
   "source": [
    "## Defining Functions\n",
    "**functions** are compound statements that can take input, execute instructions, and `return` an output. They allow you to define and reuse functionality in programs. They are denoted by using the `def` keyword followed by the **identifier** and the **parameters**. Python does not utilize curly braces to enclose statement block, and instead uses indentation to recognize a function.\n",
    "\n",
    "**functions** in python are similar to mathematical functions. For example, take the mathematical function f, defined as:\n",
    "\n",
    "f(x) = x * 2\n",
    "\n",
    "f(4) = 8\n",
    "\n",
    "In this case: **x * 2** is the instructions of the **function**, the value obtained from **f(4)=8** would be the output, **(4)** would be the **argument** used to call the **function**,and it is taken in by the **function** as a **parameter**. (The code below represents this same mathematical function as a python function):"
   ]
  },
  {
   "cell_type": "code",
   "execution_count": 3,
   "metadata": {},
   "outputs": [
    {
     "name": "stdout",
     "output_type": "stream",
     "text": [
      "f(2)= 4\n",
      "f(10)= 20\n"
     ]
    }
   ],
   "source": [
    "def f(x):\n",
    "    return x * 2\n",
    "\n",
    "print('f(2)=', f(2))\n",
    "print('f(10)=', f(10))"
   ]
  },
  {
   "cell_type": "markdown",
   "metadata": {},
   "source": [
    "### More function definitions\n",
    "Here is an example of the different ways that functions can be defined. When passing **arguments** to a function, they must be in the same order as the **parameters** defined in the function, unless they are passed using the function's parameter identifier and a declaration. (i.e cond=True)\n",
    "\n",
    "a **function** may take one, many, or infinite **parameters** in it's signature. it is also possible to initialize a function with default values for it's **parameters** by setting the **parameter** equal to the value desired."
   ]
  },
  {
   "cell_type": "code",
   "execution_count": 25,
   "metadata": {},
   "outputs": [
    {
     "name": "stdout",
     "output_type": "stream",
     "text": [
      "hello from inside the function!\n",
      "returning... hello, world! \n",
      "\n",
      "the default condition? True\n",
      "the default number? 25\n",
      "the default condition?: True\n",
      "the default number?: 1101\n",
      "the default condition?: False\n",
      "the default number?: 13\n"
     ]
    }
   ],
   "source": [
    "def print_hello_world(): # no param, no return\n",
    "    print('hello from inside the function!')\n",
    "\n",
    "def return_hello_world(): # no param\n",
    "    return 'returning... hello, world!'\n",
    "\n",
    "def normal_param(num, cond): # normal param\n",
    "    print('the default condition?', cond)\n",
    "    print('the default number?', num)\n",
    "\n",
    "def default_param(num=1101, cond=True,): # default param\n",
    "    print('the default condition?:', cond)\n",
    "    print('the default number?:', num)\n",
    "\n",
    "### calling functions ____________\n",
    "print_hello_world()\n",
    "print(return_hello_world(), '\\n')\n",
    "# '\\n' adds a line break\n",
    "\n",
    "normal_param(25, True)\n",
    "default_param()\n",
    "default_param(cond=False, num=13)"
   ]
  },
  {
   "cell_type": "markdown",
   "metadata": {},
   "source": [
    "### Advanced function definitions\n",
    "- the keyword `*args` can be used to pass a variable number of **arguments** to a function that has been previously defined to accept **infinite paramaters** by preceding the **parameter** with and asterick `*`.\n",
    "- `**kwargs` allows you to pass in **dictionary** type lists that are defined as key/value pairs as **arguments** to a **function** that has been previously defined to accept **infinite parameters** or **infinite keyword arguments** (kwargs) by using either an asterick `*` or doube asterick `**` for `kwargs`."
   ]
  },
  {
   "cell_type": "code",
   "execution_count": 27,
   "metadata": {},
   "outputs": [
    {
     "name": "stdout",
     "output_type": "stream",
     "text": [
      "first argument : Hello\n",
      "Next argument through *argn: Welcome\n",
      "Next argument through *argn: to\n",
      "Next argument through *argn: Control\n",
      "Next argument through *argn: Statements!\n",
      "\n",
      "arg1: hey\n",
      "arg2: 14\n",
      "arg3: joey\n"
     ]
    }
   ],
   "source": [
    "def arg_function(arg1, *argn): # using *args\n",
    "    print('first argument :', arg1)\n",
    "    for arg in argn:\n",
    "        print('Next argument through *argn:', arg)\n",
    "\n",
    "arg_function('Hello', 'Welcome', 'to', 'Control', 'Statements!')\n",
    "print()\n",
    "\n",
    "kwargs = {'arg1' : 'hey', 'arg2' : 14, 'arg3' : 'joey'}\n",
    "def testify(arg1, arg2, arg3):\n",
    "    print('arg1:', arg1)\n",
    "    print('arg2:', arg2)\n",
    "    print('arg3:', arg3)\n",
    "\n",
    "testify(**kwargs)"
   ]
  },
  {
   "cell_type": "markdown",
   "metadata": {},
   "source": [
    "## Variable Assignment\n",
    "Python is a strongly, dynamically typed language. This means that the data type of a variable does not need to be declared and the type of a value cannot suddenly change. For example, when you concatenate a **string** with an **integer** in Java (strong:\n",
    "```\n",
    "String test = 5 + \" out of \" + 10;\n",
    "```\n",
    "The **integers** *5* and *10* are implicitly converted to a **string**. This same method does not work in Python, since there is no operation that adds a **string** and an **integer**. Instead, you would either use a different concatenation method or cast the **integers** to **strings**:\n",
    "```\n",
    "test = str(10) + \" out of \" + str(10)\n",
    "```\n",
    "- In a strongly typed language you can't perform operations inappropriate to the type of the object, and every change in type requires an explicit conversion.\n",
    "- dynamically typed, means that the type of a value is determined at runtime. A variable is simply an identifier that is tied to that typed value.\n",
    "\n",
    "The type of a value can be returned using the `type()` function. You will find this very valuable for debugging. For variable assignments, use the **assignment operator** `=` Variables can also be reassigned to a value of a different type by using this same operator."
   ]
  },
  {
   "cell_type": "code",
   "execution_count": 1,
   "metadata": {},
   "outputs": [
    {
     "name": "stdout",
     "output_type": "stream",
     "text": [
      "10\n"
     ]
    },
    {
     "data": {
      "text/plain": [
       "int"
      ]
     },
     "execution_count": 1,
     "metadata": {},
     "output_type": "execute_result"
    }
   ],
   "source": [
    "x = 5 + 5  # int assignment\n",
    "print(x)\n",
    "type(x)"
   ]
  },
  {
   "cell_type": "code",
   "execution_count": 2,
   "metadata": {},
   "outputs": [
    {
     "name": "stdout",
     "output_type": "stream",
     "text": [
      "10.5\n"
     ]
    },
    {
     "data": {
      "text/plain": [
       "float"
      ]
     },
     "execution_count": 2,
     "metadata": {},
     "output_type": "execute_result"
    }
   ],
   "source": [
    "x = 5 + 5.5  # float reassignment\n",
    "print(x)\n",
    "type(x)"
   ]
  },
  {
   "cell_type": "markdown",
   "metadata": {},
   "source": [
    "## Strings\n",
    "As seen above, **strings** are denoted by either single `''` or double `\"\"` quotes. You can use this to escape those quotes, though the backslash `\\` escape character will also work.\n",
    "```\n",
    "print('they said, \"i want this\"')\n",
    "print('they said, \"don\\'t do that\"')\n",
    "```\n",
    "It is also possible access certain **characters** or **substrings** in a **string** by using index values.\n",
    "- When specifying the range for a substring, the last character used will always be one less than the index you pass.\n",
    "- Using a negative index value will access the string in reverse starting at -1 for the last character. \n",
    "- Passing only 1 value will return the character at that index."
   ]
  },
  {
   "cell_type": "code",
   "execution_count": 5,
   "metadata": {},
   "outputs": [
    {
     "name": "stdout",
     "output_type": "stream",
     "text": [
      "hello, worm\n"
     ]
    }
   ],
   "source": [
    "msg = \"mhello, world\"\n",
    "print(msg[1:8] +  # substring of 'h' to 'w'     -> 'hello, '\n",
    "      msg[-5:-2]  # reverse index of 'w' to 'l' -> 'wor'\n",
    "      + msg[0])   # accesses one character, 'm' -> 'm'"
   ]
  },
  {
   "cell_type": "markdown",
   "metadata": {},
   "source": [
    "To return the index of the of a character in a **string**, use the built-in `index()` function, with the **character** being searched as the **argument**. The function will return the first occurence of that character, or an exception is raised if it does not find a match. Use **exception handling** if a match might not be found.\n",
    "\n",
    "You may also check if a **string** is in another **string** by using the `in` or `not in` keywords, which function as boolean operators and return either `True` or `False` if a string is **in** or **not in** another string"
   ]
  },
  {
   "cell_type": "code",
   "execution_count": 6,
   "metadata": {},
   "outputs": [
    {
     "name": "stdout",
     "output_type": "stream",
     "text": [
      "3\n",
      "not found!\n"
     ]
    }
   ],
   "source": [
    "print('worm'.index('m'))  # match is found\n",
    "try:\n",
    "    'world'.index('m')    # match is not found\n",
    "except ValueError:\n",
    "    print('not found!')"
   ]
  },
  {
   "cell_type": "code",
   "execution_count": 7,
   "metadata": {},
   "outputs": [
    {
     "name": "stdout",
     "output_type": "stream",
     "text": [
      "False\n",
      "True\n"
     ]
    }
   ],
   "source": [
    "print('worm' in 'world')      # match not found\n",
    "print('worm' not in 'world')  # match not found"
   ]
  },
  {
   "cell_type": "markdown",
   "metadata": {},
   "source": [
    "\n",
    "## String Manipulation\n",
    "\n",
    "**Concatenation** - There are a variety of ways to concatenate **strings** in Python.\n",
    "- Use the overloaded plus `+` operator. Note, this will not work with values that are not of the **string** type.\n",
    "- Use a comma `,` between values of different types that you would like to combine.\n",
    "- You may also use the `format()` method, which replaces every occurence of curly braces `{}` in a **string** with the arguments passed to the function regardless of type.\n"
   ]
  },
  {
   "cell_type": "code",
   "execution_count": 1,
   "metadata": {},
   "outputs": [
    {
     "name": "stdout",
     "output_type": "stream",
     "text": [
      "hello, worm\n",
      "having a gr8 time?\n",
      "gr 8 time?? \n",
      "\n",
      "enter an integer: 9\n",
      "True, gr9 time actually!\n",
      "\n"
     ]
    }
   ],
   "source": [
    "print('h' + 'e' + 'l' + 'l' + 'o' + ', worm')\n",
    "print('having a gr' + str(4 + 4) + ' time?')  # concatenating typecasted int\n",
    "print('gr', 4 + 4, 'time??', '\\n')            # concatenating int with comma\n",
    "\n",
    "fun_thresh = int(input('enter an integer: ')) # integer\n",
    "is_gr8er = (fun_thresh >= 8)                   # boolean\n",
    "print('{}, gr{} time actually!\\n'.format(is_gr8er, fun_thresh))"
   ]
  },
  {
   "cell_type": "markdown",
   "metadata": {},
   "source": [
    "**Change Case** - to change the case of a string, use one of the following built-in functions.\n",
    "```\n",
    ".lower()\n",
    ".upper()\n",
    ".capitalize()\n",
    "```\n",
    "\n",
    "**Split & Join**\n",
    "- The `split()` method will seperate a string into multiple strings using the **delimiter** specified, the resulting strings are placed into an array.\n",
    "- Conversely, the `join()` method takes a string or array as a paramter and adds a new character between every character in that string]/array."
   ]
  },
  {
   "cell_type": "code",
   "execution_count": 46,
   "metadata": {},
   "outputs": [
    {
     "name": "stdout",
     "output_type": "stream",
     "text": [
      "['hello', ' you']\n",
      "a+b+c\n",
      "thefoxjumpedoverthefence\n",
      "the fox jumped over the fence\n"
     ]
    }
   ],
   "source": [
    "print('hello, you'.split(','))  # split\n",
    "print(\"+\".join('abc'))          # join string\n",
    "\n",
    "words_array = ['the', 'fox', 'jumped', 'over', 'the', 'fence']\n",
    "print(''.join(words_array))    # join array\n",
    "# join array\n",
    "print(' '. join(words_array))  # spaced string"
   ]
  },
  {
   "cell_type": "markdown",
   "metadata": {},
   "source": [
    "## Casting\n",
    "Every data type has a function for casting to that type, meaning you can change or **type cast** a value from being a **string** to an **integer** for example. Here is a list of those **casting functions** where `x` is a **value** being cast. These **arguments** can also be passed as **variables**:\n",
    "```\n",
    "int(x)\n",
    "float(x)\n",
    "bool(x)\n",
    "str(x)\n",
    "```\n",
    "Casting from a **string** to an **int** will work *only* if it contains an integer value."
   ]
  },
  {
   "cell_type": "code",
   "execution_count": 9,
   "metadata": {},
   "outputs": [
    {
     "name": "stdout",
     "output_type": "stream",
     "text": [
      "False\n",
      "10\n"
     ]
    }
   ],
   "source": [
    "# In programming 0 is False, 1 is True\n",
    "x = 0\n",
    "print(bool(x))\n",
    "\n",
    "print(int('5') + int('5'))"
   ]
  },
  {
   "cell_type": "code",
   "execution_count": 11,
   "metadata": {},
   "outputs": [
    {
     "name": "stdout",
     "output_type": "stream",
     "text": [
      "in this case, casting will not work\n"
     ]
    }
   ],
   "source": [
    "# exception handling because string contains a comma\n",
    "try:\n",
    "    print(int('5,500'))\n",
    "except ValueError:\n",
    "    print('in this case, casting will not work')"
   ]
  },
  {
   "cell_type": "markdown",
   "metadata": {},
   "source": [
    "# Selection Statements\n",
    "In programming, **selection statements** (AKA **conditional expressions**) are used to control the flow of execution of a program. They allow you to take specific actions, or run certain parts of code depending on the **conditions** that you specify.\n",
    "\n",
    "the `if`, `elif`, and `else` statements let you **select** what your program will do when it \n",
    "\n",
    "## Expressions\n",
    "These **conditional expressions** are formed using `>`, `<`, the 'greater than' and 'less than' symbols. These **expressions** allow us to compare values to each other. The result of these comparisons is either `True` or `False`, the data type we know as Boolean. The `>=`, `<=`, the 'greater than or equal to' and 'less than or equal to' symbols can also be used in **conditional expressions**, as demonstrated below:\n",
    "\n",
    "|expression|result|\n",
    "|:--------:|:----:|\n",
    "|  5 < 10  | True |\n",
    "| 10 < 10  | False|\n",
    "| 15 >= 10 | True |\n",
    "\n",
    "To illustrate this, take the example of the legal drinking age in California (21+). We can write a short script that will determine whether someone is of legal drinking age given their age:"
   ]
  },
  {
   "cell_type": "code",
   "execution_count": 44,
   "metadata": {},
   "outputs": [
    {
     "name": "stdout",
     "output_type": "stream",
     "text": [
      "are you old enough to drink?\n",
      "drink up! *glug* *glug*\n"
     ]
    }
   ],
   "source": [
    "def isLegal(age):\n",
    "    print('are you old enough to drink?')\n",
    "    if (age < 21):\n",
    "        print('not old enough to drink, child!')\n",
    "    else:\n",
    "        print('drink up! *glug* *glug*')\n",
    "        \n",
    "isLegal(25)"
   ]
  },
  {
   "cell_type": "markdown",
   "metadata": {},
   "source": [
    "### The `elif` keyword\n",
    "When an `if` **conditional expression** has been used, it is possible to add additional **conditions** by using `elif` (**else if**). The syntax is the same as the `if` and `else` **conditional expressions**, but the `if` **condition** will always be checked first. The execution will then continue through all of the `elif` **expressions** until one of the **conditions** is met, or until an `else` is reached.\n",
    "\n",
    "Here is some code to illustrate this using the same example as before:"
   ]
  },
  {
   "cell_type": "code",
   "execution_count": 47,
   "metadata": {},
   "outputs": [
    {
     "name": "stdout",
     "output_type": "stream",
     "text": [
      "are you old enough to drink?\n",
      "can i see your... nevermind drink up!\n"
     ]
    }
   ],
   "source": [
    "def isLegal(age):\n",
    "    print('are you old enough to drink?')\n",
    "    if (age > 35):\n",
    "        print('can i see your... nevermind drink up!')\n",
    "    elif (age >= 21):\n",
    "        print('drink up! *glug* *glug*')\n",
    "    else:\n",
    "        print('you\\'re not old enough to drink, child!')\n",
    "        \n",
    "isLegal(40)"
   ]
  },
  {
   "cell_type": "markdown",
   "metadata": {},
   "source": [
    "### Logical operators\n",
    "\n",
    "In cases when you want to check multiple conditions, you can utilize *logical operators*: `and`, `or`, which can chain two or more *conditional statements* into a single *logical expression*. Here are some useful tables that show how the *logical expressions* resolve:\n",
    "\n",
    "| AND   | True  | False |\n",
    "|:-----:|:-----:|:-----:|\n",
    "| True  | True  | False |\n",
    "| False | False | False |     \n",
    "\n",
    "|OR     | True  | False |\n",
    "|:-----:|:-----:|:-----:|\n",
    "| False | True  | False |\n",
    "| True  | True  | True  |"
   ]
  },
  {
   "cell_type": "code",
   "execution_count": 11,
   "metadata": {},
   "outputs": [
    {
     "name": "stdout",
     "output_type": "stream",
     "text": [
      "True\n",
      "True\n",
      "False\n"
     ]
    }
   ],
   "source": [
    "num = 15\n",
    "\n",
    "expression1 = (num >= 10 and num <=20)\n",
    "print(expression1)\n",
    "\n",
    "expression2 = (num > 50 or num < 25)\n",
    "print(expression2)\n",
    "\n",
    "expression3 = (num > 15 or num < 15)\n",
    "print(expression3)"
   ]
  }
 ],
 "metadata": {
  "kernelspec": {
   "display_name": "Python 3",
   "language": "python",
   "name": "python3"
  },
  "language_info": {
   "codemirror_mode": {
    "name": "ipython",
    "version": 3
   },
   "file_extension": ".py",
   "mimetype": "text/x-python",
   "name": "python",
   "nbconvert_exporter": "python",
   "pygments_lexer": "ipython3",
   "version": "3.6.0"
  }
 },
 "nbformat": 4,
 "nbformat_minor": 2
}
