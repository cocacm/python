{
 "cells": [
  {
   "cell_type": "markdown",
   "metadata": {},
   "source": [
    "# Python: containers and objects\n",
    "*Written by Michael D Sanchez for College of the Canyons' Association for Computing Machinery*\n",
    "\n",
    "**Contents**\n",
    "- modules (importing files and python libraries)\n",
    "- \"__main__\" methods in Python. (program design?)\n",
    "- containers (lists, tuples, dictionaries\n",
    "- classes (encapsulation and o.o.)\n",
    "- simple data structures (built in stack/queue)\n",
    "- intro to algorithms (show and explain examples)\n"
   ]
  },
  {
   "cell_type": "markdown",
   "metadata": {},
   "source": [
    "## Modules\n",
    "In Python, each file with the extension **.py** is known as a **module**. We call these: **source code** files in other languages, but specifically in this case we refer to our Python files as *py scripts* or **modules**. The benefit of using **modules** depend on the amount of code needed in a program. When a large amount of code is requires, **modules** help by dividing large programs into multiple pieces. Python, like other programming languages, makes it possible to use code from one **module** to another **module**.\n",
    "\n",
    "### Importing Modules\n",
    "In order to use any **module** it must first be **imported**, meaning that you will write code at the top of your *py script* that will instruct Python to look for that **module** (remember, a *module* is just a Python source code file). We accomplish this by using the `import` keyword, followed the the name of your **module** (WITHOUT the **.py** extension). For example, if our files had the names *i_like.py*, and *have_some.py*. Then our **import statements** would look something like:\n",
    "\n",
    "```\n",
    "1. import i_like\n",
    "2. import have_some\n",
    "3.\n",
    "4. # main program below\n",
    "```\n",
    "\n",
    "Once a **module** has been imported, you will be able to use all of the **variables** and **functions** that exist in that **module**. To do this, use **dot notation** `name.variable` or `name.function()`. The `name` of the **module** as you **imported** it, and the `variable` or `function()` from that **module** you would like to use.\n",
    "\n",
    "So, with the example from before. If the **module** `i_like.py` has a **string** variable called `fav_py = 'earl grey'`. And the **module** `have_some.py` has a **function**, `give(py)` that takes a **string** as a **parameter**. We would be able to access this **variable** and **function** from their respective **modules** with the following syntax:\n",
    "\n",
    "```\n",
    "5. mikes_fav = i_like.fav_py\n",
    "6. \n",
    "7. have_some.give(mikes_fav)\n",
    "8.\n",
    "```\n",
    "### Built-in Modules\n",
    "In Python, the most common **modules** that you will learn to use are the Python **built-in modules**. These are \n",
    "**modules** that are included with your Python installation. These **built-in modules** contain important functionality that you would not want to write code for. Luckily it's provided to us! Here are a few: "
   ]
  },
  {
   "cell_type": "code",
   "execution_count": 18,
   "metadata": {},
   "outputs": [
    {
     "name": "stdout",
     "output_type": "stream",
     "text": [
      "from math module:  8.0\n",
      "from math module:  True\n",
      "from keyword module:  True\n",
      "from keyword module:  False\n",
      "from random module:  64\n",
      "from random module:  50\n",
      "from statistics module:  18.857142857142858\n",
      "from statistics module:  12\n",
      "from statistics module:  33\n"
     ]
    }
   ],
   "source": [
    "# these are all built-in modules\n",
    "import math\n",
    "import keyword\n",
    "import random\n",
    "import statistics\n",
    "\n",
    "print('from math module: ', math.pow(2,3)) # raises 2 by the power of 3\n",
    "print('from math module: ', math.isnan(math.nan * 1)) # returns true if given number is nan ('not a number')\n",
    "# NOTE: in this example there is a 'nan' variable in the 'math' module being accessed using dot notation\n",
    "\n",
    "print('from keyword module: ', keyword.iskeyword('for')) # return true if the given string is a Python keyword\n",
    "print('from keyword module: ', keyword.iskeyword('fork')) # return true if the given string is a Python keyword\n",
    "\n",
    "print('from random module: ', random.randint(0,100)) # returns a random integer between the two selected integers\n",
    "print('from random module: ', random.randint(0,100)) # returns a random integer between the two selected integers\n",
    "\n",
    "i = [1, 5, 33, 12, 46, 33, 2] # iterable of numbers\n",
    "print('from statistics module: ', statistics.mean(i)) # calculate the mean in an iterable of numbers\n",
    "print('from statistics module: ', statistics.median(i)) # calculate the median in an iterable of numbers\n",
    "print('from statistics module: ', statistics.mode(i)) # calculate the mode in an iterable of numbers"
   ]
  },
  {
   "cell_type": "markdown",
   "metadata": {},
   "source": [
    "## Main Function\n",
    "Much of what we have been been doing so far is not allowed in other languages. For example, in Java and C++ any **function** or **block of code** *must* be enclosed within two curly braces `{}` otherwise it will not be recognized by the **compiler**. In Python however, there are no such conventions or requirements; meaning that all of the code in your file will be **interpreted** and executed in **procedural** order.\n",
    "\n",
    "The benefit of using a `main()` **function** is that it allows us to specify exactly what code will be executed when a *py script* is **interpreted**. Basically, when your Python file is being **interpreted** it defines some variables that it uses to run your program; One of which being `__name__ = '__main__'`"
   ]
  },
  {
   "cell_type": "markdown",
   "metadata": {},
   "source": [
    "## Containers\n",
    "There are a few different types of arrays in Python. They are **lists**, **tuples**, and **dictionaries**. It is possible to check whether a value or a key is in a container by using the `in` and `not in` keywords, as with strings. Though for dictionaries, and exception will be raised if a matching key is not found.\n",
    "\n",
    "**lists** are mutable and iterable, and can be created by using the `list()` function or `[]` square brackets. Add a new item to the end of a list with the `append()` method, and remove an element with the `pop()` function. Values of varying data types may be added to the same list. Lists may be accessed using the index of the element as you would with arrays.\n",
    "``` \n",
    "list_one = list()\n",
    "list_two = []\n",
    "```"
   ]
  },
  {
   "cell_type": "code",
   "execution_count": 2,
   "metadata": {},
   "outputs": [
    {
     "name": "stdout",
     "output_type": "stream",
     "text": [
      "['pineapple', 'mango', 'watermelon', 69, 420]\n"
     ]
    }
   ],
   "source": [
    "fruit = ['pineapple',\n",
    "         'mango',\n",
    "         'watermelon']\n",
    "fruit.append(69)\n",
    "fruit.append(420)\n",
    "print(fruit)"
   ]
  },
  {
   "cell_type": "code",
   "execution_count": 2,
   "metadata": {},
   "outputs": [
    {
     "name": "stdout",
     "output_type": "stream",
     "text": [
      "the last element in the array is: 420\n",
      "tomato is a fruit? False\n",
      "your auto generated username: mango69\n"
     ]
    }
   ],
   "source": [
    "print('the last element in the array is: ' + str(fruit.pop()))           # remove and return last element\n",
    "print('tomato is a fruit? ' + str('tomato' in fruit))                    # in/ not in, boolean operators\n",
    "print('your auto generated username: ' + str(fruit[1]) + str(fruit[3]))  # access list -> cast to string"
   ]
  },
  {
   "cell_type": "code",
   "execution_count": 3,
   "metadata": {},
   "outputs": [
    {
     "name": "stdout",
     "output_type": "stream",
     "text": [
      "exception raised! index out of range\n",
      "['pineapple', 'mango', 'watermelon', 69]\n"
     ]
    }
   ],
   "source": [
    "try:  # index out of range\n",
    "    print(fruit[4])\n",
    "except IndexError:\n",
    "    print('exception raised! index out of range')\n",
    "    print(fruit)"
   ]
  },
  {
   "cell_type": "markdown",
   "metadata": {},
   "source": [
    "### Tuples\n",
    "**Tuples** are immutable and iterable, and can be created by using the `tuple()` function or `()`parenthesis. Since they are immutable, tuples are useful for storing information or data that will never change, and when trying to ensure that other parts of the program won't change them. Tuples are indexed.\n",
    "```\n",
    "1. tuple_one = tuple()\n",
    "2. tuple_two = ()\n",
    "```"
   ]
  },
  {
   "cell_type": "code",
   "execution_count": 4,
   "metadata": {},
   "outputs": [
    {
     "name": "stdout",
     "output_type": "stream",
     "text": [
      "Do Androids Dream of Electric Sheep?\n"
     ]
    }
   ],
   "source": [
    "books = ['1984',\n",
    "         'Brave New World',\n",
    "         'Do Androids Dream of Electric Sheep?']\n",
    "print(books[2])"
   ]
  },
  {
   "cell_type": "markdown",
   "metadata": {},
   "source": [
    "### Dictionaries\n",
    "**dictionaries** are mutable, though they not store objects in a specific order. instead they rely on the association formed between **keys** and **values**. They can be created by using the `dict()` function or `{}` curly brackets. Use `facts[]` to search a dictionary by it's key or to add a new **key-value pair**.\n",
    "```\n",
    "1. dict_one = dict()\n",
    "2. dict_two = {}\n",
    "```\n",
    "\n",
    "Containers may also be stored within other containers to create multi-dimensional arrays. For example, a **list, tuple, or dictionary** can also be a value in a **dictionary**. In this example, the dictionary `ca` has three keys: `location`, `cities`, and `facts`. The first key's value is a tuple because geographic coordinates never chage. The second key's value is a list of cities in california, and the third key's value pair is a dictionary because key value pairs are the best way to present facts about california. \n",
    "```\n",
    "1. ca = {'location':  # tuple value\n",
    "2.        (36.7783,\n",
    "3.        119.4179),\n",
    "4.        \n",
    "5.      'cities':    # list value\n",
    "6.        ['los angeles',\n",
    "7.        'oakland',\n",
    "8.        'san diego'],\n",
    "9.        \n",
    "10.     'facts':     # dict value\n",
    "11.       {'country': 'america',\n",
    "12.        'coast': 'west'}\n",
    "13.     }\n",
    "```"
   ]
  },
  {
   "cell_type": "code",
   "execution_count": 5,
   "metadata": {},
   "outputs": [
    {
     "name": "stdout",
     "output_type": "stream",
     "text": [
      "aight\n"
     ]
    }
   ],
   "source": [
    "moods = {'1':'fine',\n",
    "        '2':'blue',\n",
    "        '3':'lit',\n",
    "        '4':'ded'}\n",
    "moods['5'] = 'aight'\n",
    "print(moods['5'])"
   ]
  },
  {
   "cell_type": "code",
   "execution_count": 6,
   "metadata": {},
   "outputs": [
    {
     "name": "stdout",
     "output_type": "stream",
     "text": [
      "enter a number between 1 and 5: 4\n",
      "mood - ded\n"
     ]
    }
   ],
   "source": [
    "num = input('enter a number between 1 and 5: ')  # input always returns a string\n",
    "\n",
    "if num in moods:\n",
    "    mood = moods[num]\n",
    "    print('mood - ' + mood)\n",
    "else:\n",
    "    print('not found! v~v')"
   ]
  },
  {
   "cell_type": "code",
   "execution_count": null,
   "metadata": {},
   "outputs": [],
   "source": []
  }
 ],
 "metadata": {
  "kernelspec": {
   "display_name": "Python 3",
   "language": "python",
   "name": "python3"
  },
  "language_info": {
   "codemirror_mode": {
    "name": "ipython",
    "version": 3
   },
   "file_extension": ".py",
   "mimetype": "text/x-python",
   "name": "python",
   "nbconvert_exporter": "python",
   "pygments_lexer": "ipython3",
   "version": "3.6.0"
  }
 },
 "nbformat": 4,
 "nbformat_minor": 2
}
