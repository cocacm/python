{
 "cells": [
  {
   "cell_type": "markdown",
   "metadata": {},
   "source": [
    "# Python: containers and objects\n",
    "*Written by Michael D Sanchez for College of the Canyons' Association for Computing Machinery*\n",
    "\n",
    "**Contents**\n",
    "- *selection statements*\n",
    "- *conditional expressions*\n",
    "- *loop statements*\n",
    "- *regular expression*\n"
   ]
  },
  {
   "cell_type": "markdown",
   "metadata": {},
   "source": []
  },
  {
   "cell_type": "markdown",
   "metadata": {},
   "source": [
    "## Containers\n",
    "There are a few different types of arrays in Python. They are **lists**, **tuples**, and **dictionaries**. It is possible to check whether a value or a key is in a container by using the `in` and `not in` keywords, as with strings. Though for dictionaries, and exception will be raised if a matching key is not found.\n",
    "\n",
    "**lists** are mutable and iterable, and can be created by using the `list()` function or `[]` square brackets. Add a new item to the end of a list with the `append()` method, and remove an element with the `pop()` function. Values of varying data types may be added to the same list. Lists may be accessed using the index of the element as you would with arrays.\n",
    "``` \n",
    "list_one = list()\n",
    "list_two = []\n",
    "```"
   ]
  },
  {
   "cell_type": "code",
   "execution_count": 1,
   "metadata": {},
   "outputs": [
    {
     "name": "stdout",
     "output_type": "stream",
     "text": [
      "['pineapple', 'mango', 'watermelon', 69, 420]\n"
     ]
    }
   ],
   "source": [
    "fruit = ['pineapple',\n",
    "         'mango',\n",
    "         'watermelon']\n",
    "fruit.append(69)\n",
    "fruit.append(420)\n",
    "print(fruit)"
   ]
  },
  {
   "cell_type": "code",
   "execution_count": 2,
   "metadata": {},
   "outputs": [
    {
     "name": "stdout",
     "output_type": "stream",
     "text": [
      "the last element in the array is: 420\n",
      "tomato is a fruit? False\n",
      "your auto generated username: mango69\n"
     ]
    }
   ],
   "source": [
    "print('the last element in the array is: ' + str(fruit.pop()))           # remove and return last element\n",
    "print('tomato is a fruit? ' + str('tomato' in fruit))                    # in/ not in, boolean operators\n",
    "print('your auto generated username: ' + str(fruit[1]) + str(fruit[3]))  # access list -> cast to string"
   ]
  },
  {
   "cell_type": "code",
   "execution_count": 3,
   "metadata": {},
   "outputs": [
    {
     "name": "stdout",
     "output_type": "stream",
     "text": [
      "exception raised! index out of range\n",
      "['pineapple', 'mango', 'watermelon', 69]\n"
     ]
    }
   ],
   "source": [
    "try:  # index out of range\n",
    "    print(fruit[4])\n",
    "except IndexError:\n",
    "    print('exception raised! index out of range')\n",
    "    print(fruit)"
   ]
  },
  {
   "cell_type": "markdown",
   "metadata": {},
   "source": [
    "**Tuples** are immutable and iterable, and can be created by using the `tuple()` function or `()`parenthesis. Since they are immutable, tuples are useful for storing information or data that will never change, and when trying to ensure that other parts of the program won't change them. Tuples are indexed.\n",
    "```\n",
    "tuple_one = tuple()\n",
    "tuple_two = ()\n",
    "```"
   ]
  },
  {
   "cell_type": "code",
   "execution_count": 4,
   "metadata": {},
   "outputs": [
    {
     "name": "stdout",
     "output_type": "stream",
     "text": [
      "Do Androids Dream of Electric Sheep?\n"
     ]
    }
   ],
   "source": [
    "books = ['1984',\n",
    "         'Brave New World',\n",
    "         'Do Androids Dream of Electric Sheep?']\n",
    "print(books[2])"
   ]
  },
  {
   "cell_type": "markdown",
   "metadata": {},
   "source": [
    "**dictionaries** are mutable, though they not store objects in a specific order. instead they rely on the association formed between **keys** and **values**. They can be created by using the `dict()` function or `{}` curly brackets. Use `facts[]` to search a dictionary by it's key or to add a new **key-value pair**.\n",
    "```\n",
    "dict_one = dict()\n",
    "dict_two = {}\n",
    "```\n",
    "\n",
    "Containers may also be stored within other containers to create multi-dimensional arrays. For example, a **list, tuple, or dictionary** can also be a value in a **dictionary**. In this example, the dictionary `ca` has three keys: `location`, `cities`, and `facts`. The first key's value is a tuple because geographic coordinates never chage. The second key's value is a list of cities in california, and the third key's value pair is a dictionary because key value pairs are the best way to present facts about california. \n",
    "```\n",
    "ca = {'location':  # tuple value\n",
    "        (36.7783,\n",
    "        119.4179),\n",
    "        \n",
    "      'cities':    # list value\n",
    "        ['los angeles',\n",
    "        'oakland',\n",
    "        'san diego'],\n",
    "        \n",
    "      'facts':     # dict value\n",
    "        {'country': 'america',\n",
    "        'coast': 'west'}\n",
    "     }\n",
    "```"
   ]
  },
  {
   "cell_type": "code",
   "execution_count": 5,
   "metadata": {},
   "outputs": [
    {
     "name": "stdout",
     "output_type": "stream",
     "text": [
      "aight\n"
     ]
    }
   ],
   "source": [
    "moods = {'1':'fine',\n",
    "        '2':'blue',\n",
    "        '3':'lit',\n",
    "        '4':'ded'}\n",
    "moods['5'] = 'aight'\n",
    "print(moods['5'])"
   ]
  },
  {
   "cell_type": "code",
   "execution_count": 6,
   "metadata": {},
   "outputs": [
    {
     "name": "stdout",
     "output_type": "stream",
     "text": [
      "enter a number between 1 and 5: 4\n",
      "mood - ded\n"
     ]
    }
   ],
   "source": [
    "num = input('enter a number between 1 and 5: ')  # input always returns a string\n",
    "\n",
    "if num in moods:\n",
    "    mood = moods[num]\n",
    "    print('mood - ' + mood)\n",
    "else:\n",
    "    print('not found! v~v')"
   ]
  },
  {
   "cell_type": "code",
   "execution_count": null,
   "metadata": {},
   "outputs": [],
   "source": []
  }
 ],
 "metadata": {
  "kernelspec": {
   "display_name": "Python 3",
   "language": "python",
   "name": "python3"
  },
  "language_info": {
   "codemirror_mode": {
    "name": "ipython",
    "version": 3
   },
   "file_extension": ".py",
   "mimetype": "text/x-python",
   "name": "python",
   "nbconvert_exporter": "python",
   "pygments_lexer": "ipython3",
   "version": "3.6.0"
  }
 },
 "nbformat": 4,
 "nbformat_minor": 2
}
