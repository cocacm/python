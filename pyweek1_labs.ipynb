{
 "cells": [
  {
   "cell_type": "markdown",
   "metadata": {},
   "source": [
    "# Introduction to Programming with Python - Week 1 Labs\n",
    "Written by Michael D Sanchez for the Association for Computing Machinery's COC chapter.\n",
    "\n",
    "### Contents\n",
    "- Lab 1 - Icebreaker Function\n",
    "- Lab 2a - Tile Size Function (Part 1)\n",
    "- Lab 2b - Math Sum Game (Part 1)\n",
    "- Lab 3a - Tile Size Function (Part 2)\n",
    "- Lab 3b - Math Sum Game (Part 2)\n",
    "- Project 1 - Legal Drinker"
   ]
  },
  {
   "cell_type": "markdown",
   "metadata": {},
   "source": [
    "## Lab 1 - Icebreaker Function\n",
    "Your goal is to write a function that could generate a self-introduction. First, define a function that will take the user’s name as a parameter. The function will then return or print some self-introduction, such as:\n",
    "\n",
    "*<p style=\"text-align: center;\"> Hello, World! My name is Michael~</p>*"
   ]
  },
  {
   "cell_type": "code",
   "execution_count": 10,
   "metadata": {},
   "outputs": [
    {
     "name": "stdout",
     "output_type": "stream",
     "text": [
      "Hello, World! My name is Michael~\n"
     ]
    }
   ],
   "source": [
    "# function definition\n",
    "def icebreaker(user_name):\n",
    "    print('Hello, World! My name is ' + user_name)\n",
    "\n",
    "# function call\n",
    "icebreaker(\"Michael~\")"
   ]
  },
  {
   "cell_type": "markdown",
   "metadata": {},
   "source": [
    "### OPTIONAL:\n",
    "Modify your function so that it takes two string parameters: the user’s name, and something that they like. Display this output again, as a single concatenated string. Try using a default argument in the case that they like nothing!:\n",
    "\n",
    "*<p style=\"text-align: center;\">Hello, World! My name is Michael. I enjoy programming~</p>*"
   ]
  },
  {
   "cell_type": "code",
   "execution_count": 11,
   "metadata": {},
   "outputs": [
    {
     "name": "stdout",
     "output_type": "stream",
     "text": [
      "Hello, World! My name is boring, I enjoy nothing -_-\n",
      "Hello, World! My name is Michael, I enjoy programming~\n"
     ]
    }
   ],
   "source": [
    "### OPTIONAL\n",
    "# function definition\n",
    "def icebreaker_opt(user_name, user_likes='nothing -_-'):\n",
    "    print('Hello, World! My name is ' + user_name + ', I enjoy ' + user_likes)\n",
    "\n",
    "# functions calls\n",
    "icebreaker_opt(\"boring\")\n",
    "icebreaker_opt(\"Michael\", \"programming~\")\n"
   ]
  },
  {
   "cell_type": "markdown",
   "metadata": {},
   "source": [
    "## Lab 2a - Tile Size Function (Part 1)\n",
    "You are working at a flooring company, and are given the task of writing a program to calculate the sizes of tiles that are manufactured. A machine will be measuring the widths and lengths (in cm) of the new tiles, your job is to define a function that will return or output the correct area for any given tile. Display this output, such as:\n",
    "\n",
    "*<p style=\"text-align: center;\">The area of the given tile with length 10 cm, and width 10 cm, is: 100 cm^2</p>*"
   ]
  },
  {
   "cell_type": "code",
   "execution_count": 21,
   "metadata": {},
   "outputs": [
    {
     "name": "stdout",
     "output_type": "stream",
     "text": [
      "The area of the given tile with length 10 cm and width 10 cm, is: 100 cm^2\n",
      "The area of the given tile with length 15 cm and width 8 cm, is: 120 cm^2\n"
     ]
    }
   ],
   "source": [
    "# function definition\n",
    "def get_tile_area(length, width):\n",
    "    print(f'The area of the given tile with length {length} cm and width {width} cm, is: {length * width} cm^2')\n",
    "\n",
    "# function calls\n",
    "get_tile_area(10, 10)\n",
    "get_tile_area(15, 8)"
   ]
  },
  {
   "cell_type": "markdown",
   "metadata": {},
   "source": [
    "## Lab 2b - Math Sum Game (Part 1)\n",
    "### OPTIONAL:\n",
    "You are a teaching assistant at an elementary school and the math teacher asks you to design a game to have the students practice their addition skills. Write a function that will generate two numbers between 0-50, then prompt for user input by asking:\n",
    "\n",
    "*<p style=\"text-align: center;\">What is 10 + 13 = ?:</p>*"
   ]
  },
  {
   "cell_type": "code",
   "execution_count": 2,
   "metadata": {},
   "outputs": [
    {
     "name": "stdout",
     "output_type": "stream",
     "text": [
      "What is 2 + 31 = ?: 33\n",
      "Student answered: 33\n"
     ]
    }
   ],
   "source": [
    "### OPTIONAL\n",
    "from random import randint\n",
    "\n",
    "# function definition\n",
    "def sum_game():\n",
    "    num_one = randint(0,50)\n",
    "    num_two = randint(0,50)\n",
    "    correct_answer = num_one + num_two\n",
    "    \n",
    "    user_answer = int(input(f'What is {num_one} + {num_two} = ?: '))\n",
    "    # or: [user_answer = int(user_answer)] to cast string -> int\n",
    "    print(f'Student answered: {user_answer}')\n",
    "\n",
    "# function call\n",
    "sum_game()"
   ]
  },
  {
   "cell_type": "markdown",
   "metadata": {},
   "source": [
    "## Lab 3a - Tile Size Function (Part 2)\n",
    "Back at the flooring company, you are asked to modify your Tile Size function. They would like you to use your function to also determine which tiles are squares so that they could be sorted. So now, after calculating the area, you should also determine whether the given tile is a perfect square and output the result:\n",
    "\n",
    "*<p style=\"text-align: center;\">The area of the given tile with length 10 cm, and width 10 cm, is: 100 cm^2</p>*\n",
    "*<p style=\"text-align: center;\">This tile is a perfect square</p>*"
   ]
  },
  {
   "cell_type": "code",
   "execution_count": 2,
   "metadata": {},
   "outputs": [],
   "source": [
    "### OPTIONAL (call this function):\n",
    "# actually check if it is a perfect square\n",
    "def is_perf_square(num):\n",
    "    ans = 0\n",
    "    while (ans**2 < num):\n",
    "        ans = ans + 1\n",
    "    return True if (ans**2 == num) else False"
   ]
  },
  {
   "cell_type": "code",
   "execution_count": 23,
   "metadata": {},
   "outputs": [
    {
     "name": "stdout",
     "output_type": "stream",
     "text": [
      "The area of the given tile with length 4 cm and width 4 cm, is: 16 cm^2\n",
      "This tile is a perfect square!\n",
      "The area of the given tile with length 8 cm and width 11 cm, is: 88 cm^2\n",
      "This tile is not a square.\n"
     ]
    }
   ],
   "source": [
    "# function definitions\n",
    "def get_tile_area(length, width):\n",
    "    print(f'The area of the given tile with length {length} cm and width {width} cm, is: {length * width} cm^2')\n",
    "    if (length == width):\n",
    "        print('This tile is a perfect square!')\n",
    "    else:\n",
    "        print('This tile is not a square.')\n",
    "        \n",
    "# function calls\n",
    "get_tile_area(4,4)\n",
    "get_tile_area(8,11)"
   ]
  },
  {
   "cell_type": "markdown",
   "metadata": {},
   "source": [
    "## Lab 3b - Math Sum Game (Part 2)\n",
    "### OPTIONAL:\n",
    "You are a teaching assistant at an elementary school and the math teacher asks you to design a game to have the students practice their addition skills. Write a function that will generate two numbers between 0-50, then prompt for user input by asking:\n",
    "\n",
    "*<p style=\"text-align: center;\">What is 10 + 13 = ?: => user inputs 23 => Correct! 10 + 13 = 23</p>*\n",
    "\n",
    "Modify your function so that the user selects a difficulty, from ‘easy’, ‘normal’, ‘hard’. Where each consecutive difficulty adds a tenths place (0-9, 10-99, 100-999) to the number that is randomly generated. Don’t worry about making your menu loop or catch errors!"
   ]
  },
  {
   "cell_type": "code",
   "execution_count": 8,
   "metadata": {},
   "outputs": [
    {
     "name": "stdout",
     "output_type": "stream",
     "text": [
      "easy: 0-9, normal: 10-99, hard: 100-999\n",
      "Enter your difficulty: hard\n",
      "What is 752 + 839 = ?: 1591\n",
      "Correct! ^~^\n",
      "752 + 839 = 1591\n"
     ]
    }
   ],
   "source": [
    "### OPTIONAL\n",
    "# function definition\n",
    "def sum_game():\n",
    "    print('easy: 0-9, normal: 10-99, hard: 100-999')\n",
    "    user_option = input('Enter your difficulty: ')\n",
    "    \n",
    "    if (user_option == 'easy'):\n",
    "        num_one, num_two = randint(0,9), randint(0,9)\n",
    "    elif (user_option == 'normal'):\n",
    "        num_one, num_two = randint(10,99), randint(10,99)\n",
    "    elif (user_option == 'hard'):\n",
    "        num_one, num_two = randint(100,999), randint(100,999)\n",
    "    else: print('Invalid option v~v')\n",
    "\n",
    "    correct_answer = num_one + num_two\n",
    "    \n",
    "    user_answer = int(input(f'What is {num_one} + {num_two} = ?: '))\n",
    "    # or: [user_answer = int(user_answer)] to cast string -> int\n",
    "    \n",
    "    if (user_answer == correct_answer):\n",
    "        print('Correct! ^~^')\n",
    "    else:\n",
    "        print('Sorry. v~v')\n",
    "    print(f'{num_one} + {num_two} = {correct_answer}')\n",
    "\n",
    "# function call\n",
    "sum_game()"
   ]
  },
  {
   "cell_type": "markdown",
   "metadata": {},
   "source": [
    "## Project 1 - Legal Drinker\n",
    "Your task is to verify that the user is of legal drinking age or older (21+). Given their full name and birth year, display a message that outputs the result along with ONLY their capitalized first name:\n",
    "        \n",
    "*<p style=\"text-align: center;\">What is your full name and birth year?: user inputs 'michael sanchez 1993' => Drink up, Michael! glug glug</p>*\n"
   ]
  },
  {
   "cell_type": "code",
   "execution_count": 9,
   "metadata": {},
   "outputs": [
    {
     "name": "stdout",
     "output_type": "stream",
     "text": [
      "What is your full name and birth year?: michael sanchez 1993\n",
      "Drink up, Michael! *glug glug*~\n"
     ]
    }
   ],
   "source": [
    "# function definition\n",
    "def is_legal_drinker():\n",
    "    user_info = input('What is your full name and birth year?: ')\n",
    "    user_firstname = (user_info.split(' '))[0]\n",
    "    user_age = 2018 - int((user_info.split(' '))[2])\n",
    "    if (user_age < 21):\n",
    "        print(f'You\\'re not old enough to drink, {user_firstname}!')\n",
    "    else:\n",
    "        print(f'Drink up, {user_firstname.capitalize()}! *glug glug*~')\n",
    "\n",
    "# function call\n",
    "is_legal_drinker()"
   ]
  },
  {
   "cell_type": "markdown",
   "metadata": {},
   "source": [
    "### OPTIONAL:\n",
    "Store a list of names in a text file, and populate it with full names separated by line breaks. Using with open(‘file.txt’, ‘w/r’) as variable:, read and iterate through each name in the text file, and verify their legal drinking age by using your program."
   ]
  },
  {
   "cell_type": "code",
   "execution_count": 26,
   "metadata": {},
   "outputs": [
    {
     "name": "stdout",
     "output_type": "stream",
     "text": [
      "Drink up, Michael! *glug glug*~\n",
      "You're not old enough to drink, andrew!\n",
      "Drink up, Alyssa! *glug glug*~\n",
      "Drink up, Daniel! *glug glug*~\n",
      "You're not old enough to drink, paul!\n",
      "Drink up, Vincent! *glug glug*~\n"
     ]
    }
   ],
   "source": [
    "### OPTIONAL\n",
    "# function definition\n",
    "def is_legal_drinker_opt():\n",
    "    names_list = []\n",
    "    with open('names.txt', 'r') as names:\n",
    "        names_list = names.readlines()\n",
    "    names.close() # just to make sure!\n",
    "    \n",
    "    for each_user in names_list:\n",
    "        user_firstname = (each_user.split(' ')[0])\n",
    "        user_age = 2018 - int((each_user.split(' '))[2])\n",
    "        if (user_age < 21):\n",
    "            print(f'You\\'re not old enough to drink, {user_firstname}!')\n",
    "        else:\n",
    "            print(f'Drink up, {user_firstname.capitalize()}! *glug glug*~')\n",
    "\n",
    "# function call\n",
    "is_legal_drinker_opt()\n"
   ]
  }
 ],
 "metadata": {
  "kernelspec": {
   "display_name": "Python 3",
   "language": "python",
   "name": "python3"
  },
  "language_info": {
   "codemirror_mode": {
    "name": "ipython",
    "version": 3
   },
   "file_extension": ".py",
   "mimetype": "text/x-python",
   "name": "python",
   "nbconvert_exporter": "python",
   "pygments_lexer": "ipython3",
   "version": "3.6.0"
  }
 },
 "nbformat": 4,
 "nbformat_minor": 2
}
